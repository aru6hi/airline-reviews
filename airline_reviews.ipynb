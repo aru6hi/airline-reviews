{
 "cells": [
  {
   "cell_type": "markdown",
   "id": "54683c28",
   "metadata": {},
   "source": [
    "# Problem Statement:\n",
    "### Developing a tailored evaluation framework to identify the best airline for various types of travel based on reviews and factors including convenience, comfort, and service quality."
   ]
  },
  {
   "cell_type": "markdown",
   "id": "8c2c3b48",
   "metadata": {},
   "source": [
    "# Data Preparation:"
   ]
  },
  {
   "cell_type": "code",
   "execution_count": null,
   "id": "3ac77e47",
   "metadata": {},
   "outputs": [],
   "source": []
  }
 ],
 "metadata": {
  "kernelspec": {
   "display_name": "Python 3 (ipykernel)",
   "language": "python",
   "name": "python3"
  },
  "language_info": {
   "codemirror_mode": {
    "name": "ipython",
    "version": 3
   },
   "file_extension": ".py",
   "mimetype": "text/x-python",
   "name": "python",
   "nbconvert_exporter": "python",
   "pygments_lexer": "ipython3",
   "version": "3.11.5"
  }
 },
 "nbformat": 4,
 "nbformat_minor": 5
}
